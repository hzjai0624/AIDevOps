{
 "cells": [
  {
   "cell_type": "code",
   "execution_count": null,
   "metadata": {},
   "outputs": [],
   "source": [
    "# Azure Machine Learning service Workspaceへの接続情報\n",
    "import azureml.core\n",
    "print(\"Azure ML service Python SDK バージョン:\", azureml.core.VERSION)"
   ]
  },
  {
   "cell_type": "code",
   "execution_count": null,
   "metadata": {},
   "outputs": [],
   "source": [
    "from azureml.core import Workspace\n",
    "\n",
    "try:\n",
    "    ws = Workspace(\n",
    "        subscription_id = \"9c0f91b8-eb2f-484c-979c-15848c098a6b\", \n",
    "        resource_group = \"pre-aidevops\", \n",
    "        workspace_name = \"azureml\"\n",
    "    )\n",
    "\n",
    "    ws.write_config()\n",
    "    print(\"Workspaceの設定完了.\")\n",
    "except:\n",
    "    print(\"Workspaceがありません。設定を見直す or 新規にWorkspaceを作成してください。\")"
   ]
  },
  {
   "cell_type": "code",
   "execution_count": null,
   "metadata": {},
   "outputs": [],
   "source": []
  }
 ],
 "metadata": {
  "kernelspec": {
   "display_name": "Python 3",
   "language": "python",
   "name": "python3"
  },
  "language_info": {
   "codemirror_mode": {
    "name": "ipython",
    "version": 3
   },
   "file_extension": ".py",
   "mimetype": "text/x-python",
   "name": "python",
   "nbconvert_exporter": "python",
   "pygments_lexer": "ipython3",
   "version": "3.6.8"
  }
 },
 "nbformat": 4,
 "nbformat_minor": 2
}
