{
 "cells": [
  {
   "cell_type": "markdown",
   "metadata": {},
   "source": [
    "# Azure Machine Learning service Workspace への接続"
   ]
  },
  {
   "cell_type": "code",
   "execution_count": 1,
   "metadata": {},
   "outputs": [
    {
     "name": "stdout",
     "output_type": "stream",
     "text": [
      "Azure ML service Python SDK バージョン: 1.0.10\n"
     ]
    }
   ],
   "source": [
    "# Azure Machine Learning service Workspaceへの接続情報\n",
    "from azureml.core import Workspace\n",
    "import os, json\n",
    "import azureml.core\n",
    "print(\"Azure ML service Python SDK バージョン:\", azureml.core.VERSION)"
   ]
  },
  {
   "cell_type": "code",
   "execution_count": 2,
   "metadata": {},
   "outputs": [],
   "source": [
    "# config.jsonに予め接続情報を記載\n",
    "with open(\"../aml_config/config.json\") as f:\n",
    "    config = json.load(f)"
   ]
  },
  {
   "cell_type": "code",
   "execution_count": 3,
   "metadata": {},
   "outputs": [],
   "source": [
    "workspace_name = config['workspace_name']\n",
    "resource_group = config['resource_group']\n",
    "subscription_id = config['subscription_id']\n",
    "location = config['location']\n",
    "#location = 'southeastasia'"
   ]
  },
  {
   "cell_type": "code",
   "execution_count": 5,
   "metadata": {},
   "outputs": [],
   "source": [
    "try:\n",
    "    # 既存のWorkspaceを使用\n",
    "    ws = Workspace.get(name = workspace_name,\n",
    "                             subscription_id = subscription_id,\n",
    "                             resource_group = resource_group)\n",
    "\n",
    "except:\n",
    "    # 新しいWorkspaceを作成\n",
    "    ws = Workspace.create(name = workspace_name,\n",
    "                             subscription_id = subscription_id,\n",
    "                             resource_group = resource_group,\n",
    "                             #create_resource_group=True,\n",
    "                             location=location)"
   ]
  },
  {
   "cell_type": "code",
   "execution_count": 6,
   "metadata": {},
   "outputs": [
    {
     "name": "stdout",
     "output_type": "stream",
     "text": [
      "Workspapce接続先:\n",
      "azureml\n",
      "azureml_sea\n",
      "southeastasia\n",
      "9c0f91b8-eb2f-484c-979c-15848c098a6b\n"
     ]
    }
   ],
   "source": [
    "# Workspaceの情報 \n",
    "print(\"Workspapce接続先:\", ws.name, ws.resource_group, ws.location, ws.subscription_id, sep = '\\n')"
   ]
  },
  {
   "cell_type": "code",
   "execution_count": null,
   "metadata": {},
   "outputs": [],
   "source": []
  }
 ],
 "metadata": {
  "kernelspec": {
   "display_name": "Python 3",
   "language": "python",
   "name": "python3"
  },
  "language_info": {
   "codemirror_mode": {
    "name": "ipython",
    "version": 3
   },
   "file_extension": ".py",
   "mimetype": "text/x-python",
   "name": "python",
   "nbconvert_exporter": "python",
   "pygments_lexer": "ipython3",
   "version": "3.6.8"
  }
 },
 "nbformat": 4,
 "nbformat_minor": 2
}
